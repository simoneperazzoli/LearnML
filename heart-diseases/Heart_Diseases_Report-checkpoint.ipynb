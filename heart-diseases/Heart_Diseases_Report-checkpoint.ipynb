{
 "cells": [
  {
   "cell_type": "markdown",
   "metadata": {},
   "source": [
    "**Heart Diseases Analysis**"
   ]
  },
  {
   "cell_type": "code",
   "execution_count": null,
   "metadata": {
    "_kg_hide-input": true,
    "_kg_hide-output": true
   },
   "outputs": [],
   "source": [
    "#!pip3 install dtale"
   ]
  },
  {
   "cell_type": "code",
   "execution_count": 5,
   "metadata": {
    "_kg_hide-input": true,
    "_kg_hide-output": true,
    "id": "lKaO91WT78vn"
   },
   "outputs": [],
   "source": [
    "import pandas as pd\n",
    "import dtale\n",
    "%matplotlib inline"
   ]
  },
  {
   "cell_type": "code",
   "execution_count": 6,
   "metadata": {
    "_kg_hide-input": true,
    "_kg_hide-output": true,
    "id": "0No8Wdtb8Mlw",
    "outputId": "b883289b-5690-4abb-bd4d-0cfc3fab5fa8"
   },
   "outputs": [],
   "source": [
    "# reading the data\n",
    "data = pd.read_csv('heart.csv')"
   ]
  },
  {
   "cell_type": "code",
   "execution_count": 7,
   "metadata": {},
   "outputs": [
    {
     "data": {
      "text/html": [
       "\n",
       "        <iframe\n",
       "            width=\"100%\"\n",
       "            height=\"475\"\n",
       "            src=\"http://dracarys:40000/dtale/iframe/1\"\n",
       "            frameborder=\"0\"\n",
       "            allowfullscreen\n",
       "        ></iframe>\n",
       "        "
      ],
      "text/plain": [
       "<IPython.lib.display.IFrame at 0x7f872a6f7128>"
      ]
     },
     "metadata": {},
     "output_type": "display_data"
    },
    {
     "data": {
      "text/plain": []
     },
     "execution_count": 7,
     "metadata": {},
     "output_type": "execute_result"
    },
    {
     "name": "stdout",
     "output_type": "stream",
     "text": [
      "Exception occurred while processing request: name 'color' is not defined\n",
      "Traceback (most recent call last):\n",
      "  File \"/home/mone/.local/lib/python3.6/site-packages/pandas/core/computation/scope.py\", line 187, in resolve\n",
      "    return self.resolvers[key]\n",
      "  File \"/usr/lib/python3.6/collections/__init__.py\", line 883, in __getitem__\n",
      "    return self.__missing__(key)            # support subclasses that define __missing__\n",
      "  File \"/usr/lib/python3.6/collections/__init__.py\", line 875, in __missing__\n",
      "    raise KeyError(key)\n",
      "KeyError: 'color'\n",
      "\n",
      "During handling of the above exception, another exception occurred:\n",
      "\n",
      "Traceback (most recent call last):\n",
      "  File \"/home/mone/.local/lib/python3.6/site-packages/pandas/core/computation/scope.py\", line 198, in resolve\n",
      "    return self.temps[key]\n",
      "KeyError: 'color'\n",
      "\n",
      "During handling of the above exception, another exception occurred:\n",
      "\n",
      "Traceback (most recent call last):\n",
      "  File \"/home/mone/.local/lib/python3.6/site-packages/dtale/views.py\", line 927, in test_filter\n",
      "    global_state.get_context_variables(data_id)\n",
      "  File \"/home/mone/.local/lib/python3.6/site-packages/dtale/utils.py\", line 696, in run_query\n",
      "    df = df.query(final_query, local_dict=context_vars or {})\n",
      "  File \"/home/mone/.local/lib/python3.6/site-packages/pandas/core/frame.py\", line 3231, in query\n",
      "    res = self.eval(expr, **kwargs)\n",
      "  File \"/home/mone/.local/lib/python3.6/site-packages/pandas/core/frame.py\", line 3346, in eval\n",
      "    return _eval(expr, inplace=inplace, **kwargs)\n",
      "  File \"/home/mone/.local/lib/python3.6/site-packages/pandas/core/computation/eval.py\", line 332, in eval\n",
      "    parsed_expr = Expr(expr, engine=engine, parser=parser, env=env)\n",
      "  File \"/home/mone/.local/lib/python3.6/site-packages/pandas/core/computation/expr.py\", line 764, in __init__\n",
      "    self.terms = self.parse()\n",
      "  File \"/home/mone/.local/lib/python3.6/site-packages/pandas/core/computation/expr.py\", line 781, in parse\n",
      "    return self._visitor.visit(self.expr)\n",
      "  File \"/home/mone/.local/lib/python3.6/site-packages/pandas/core/computation/expr.py\", line 375, in visit\n",
      "    return visitor(node, **kwargs)\n",
      "  File \"/home/mone/.local/lib/python3.6/site-packages/pandas/core/computation/expr.py\", line 381, in visit_Module\n",
      "    return self.visit(expr, **kwargs)\n",
      "  File \"/home/mone/.local/lib/python3.6/site-packages/pandas/core/computation/expr.py\", line 375, in visit\n",
      "    return visitor(node, **kwargs)\n",
      "  File \"/home/mone/.local/lib/python3.6/site-packages/pandas/core/computation/expr.py\", line 384, in visit_Expr\n",
      "    return self.visit(node.value, **kwargs)\n",
      "  File \"/home/mone/.local/lib/python3.6/site-packages/pandas/core/computation/expr.py\", line 375, in visit\n",
      "    return visitor(node, **kwargs)\n",
      "  File \"/home/mone/.local/lib/python3.6/site-packages/pandas/core/computation/expr.py\", line 703, in visit_BoolOp\n",
      "    return reduce(visitor, operands)\n",
      "  File \"/home/mone/.local/lib/python3.6/site-packages/pandas/core/computation/expr.py\", line 697, in visitor\n",
      "    rhs = self._try_visit_binop(y)\n",
      "  File \"/home/mone/.local/lib/python3.6/site-packages/pandas/core/computation/expr.py\", line 692, in _try_visit_binop\n",
      "    return self.visit(bop)\n",
      "  File \"/home/mone/.local/lib/python3.6/site-packages/pandas/core/computation/expr.py\", line 375, in visit\n",
      "    return visitor(node, **kwargs)\n",
      "  File \"/home/mone/.local/lib/python3.6/site-packages/pandas/core/computation/expr.py\", line 676, in visit_Compare\n",
      "    return self.visit(binop)\n",
      "  File \"/home/mone/.local/lib/python3.6/site-packages/pandas/core/computation/expr.py\", line 375, in visit\n",
      "    return visitor(node, **kwargs)\n",
      "  File \"/home/mone/.local/lib/python3.6/site-packages/pandas/core/computation/expr.py\", line 497, in visit_BinOp\n",
      "    op, op_class, left, right = self._maybe_transform_eq_ne(node)\n",
      "  File \"/home/mone/.local/lib/python3.6/site-packages/pandas/core/computation/expr.py\", line 416, in _maybe_transform_eq_ne\n",
      "    left = self.visit(node.left, side=\"left\")\n",
      "  File \"/home/mone/.local/lib/python3.6/site-packages/pandas/core/computation/expr.py\", line 375, in visit\n",
      "    return visitor(node, **kwargs)\n",
      "  File \"/home/mone/.local/lib/python3.6/site-packages/pandas/core/computation/expr.py\", line 510, in visit_Name\n",
      "    return self.term_type(node.id, self.env, **kwargs)\n",
      "  File \"/home/mone/.local/lib/python3.6/site-packages/pandas/core/computation/ops.py\", line 82, in __init__\n",
      "    self._value = self._resolve_name()\n",
      "  File \"/home/mone/.local/lib/python3.6/site-packages/pandas/core/computation/ops.py\", line 99, in _resolve_name\n",
      "    res = self.env.resolve(self.local_name, is_local=self.is_local)\n",
      "  File \"/home/mone/.local/lib/python3.6/site-packages/pandas/core/computation/scope.py\", line 203, in resolve\n",
      "    raise UndefinedVariableError(key, is_local)\n",
      "pandas.core.computation.ops.UndefinedVariableError: name 'color' is not defined\n",
      "Exception occurred while processing request: name 'color' is not defined\n",
      "Traceback (most recent call last):\n",
      "  File \"/home/mone/.local/lib/python3.6/site-packages/pandas/core/computation/scope.py\", line 187, in resolve\n",
      "    return self.resolvers[key]\n",
      "  File \"/usr/lib/python3.6/collections/__init__.py\", line 883, in __getitem__\n",
      "    return self.__missing__(key)            # support subclasses that define __missing__\n",
      "  File \"/usr/lib/python3.6/collections/__init__.py\", line 875, in __missing__\n",
      "    raise KeyError(key)\n",
      "KeyError: 'color'\n",
      "\n",
      "During handling of the above exception, another exception occurred:\n",
      "\n",
      "Traceback (most recent call last):\n",
      "  File \"/home/mone/.local/lib/python3.6/site-packages/pandas/core/computation/scope.py\", line 198, in resolve\n",
      "    return self.temps[key]\n",
      "KeyError: 'color'\n",
      "\n",
      "During handling of the above exception, another exception occurred:\n",
      "\n",
      "Traceback (most recent call last):\n",
      "  File \"/home/mone/.local/lib/python3.6/site-packages/dtale/views.py\", line 927, in test_filter\n",
      "    global_state.get_context_variables(data_id)\n",
      "  File \"/home/mone/.local/lib/python3.6/site-packages/dtale/utils.py\", line 696, in run_query\n",
      "    df = df.query(final_query, local_dict=context_vars or {})\n",
      "  File \"/home/mone/.local/lib/python3.6/site-packages/pandas/core/frame.py\", line 3231, in query\n",
      "    res = self.eval(expr, **kwargs)\n",
      "  File \"/home/mone/.local/lib/python3.6/site-packages/pandas/core/frame.py\", line 3346, in eval\n",
      "    return _eval(expr, inplace=inplace, **kwargs)\n",
      "  File \"/home/mone/.local/lib/python3.6/site-packages/pandas/core/computation/eval.py\", line 332, in eval\n",
      "    parsed_expr = Expr(expr, engine=engine, parser=parser, env=env)\n",
      "  File \"/home/mone/.local/lib/python3.6/site-packages/pandas/core/computation/expr.py\", line 764, in __init__\n",
      "    self.terms = self.parse()\n",
      "  File \"/home/mone/.local/lib/python3.6/site-packages/pandas/core/computation/expr.py\", line 781, in parse\n",
      "    return self._visitor.visit(self.expr)\n",
      "  File \"/home/mone/.local/lib/python3.6/site-packages/pandas/core/computation/expr.py\", line 375, in visit\n",
      "    return visitor(node, **kwargs)\n",
      "  File \"/home/mone/.local/lib/python3.6/site-packages/pandas/core/computation/expr.py\", line 381, in visit_Module\n",
      "    return self.visit(expr, **kwargs)\n",
      "  File \"/home/mone/.local/lib/python3.6/site-packages/pandas/core/computation/expr.py\", line 375, in visit\n",
      "    return visitor(node, **kwargs)\n",
      "  File \"/home/mone/.local/lib/python3.6/site-packages/pandas/core/computation/expr.py\", line 384, in visit_Expr\n",
      "    return self.visit(node.value, **kwargs)\n",
      "  File \"/home/mone/.local/lib/python3.6/site-packages/pandas/core/computation/expr.py\", line 375, in visit\n",
      "    return visitor(node, **kwargs)\n",
      "  File \"/home/mone/.local/lib/python3.6/site-packages/pandas/core/computation/expr.py\", line 703, in visit_BoolOp\n",
      "    return reduce(visitor, operands)\n",
      "  File \"/home/mone/.local/lib/python3.6/site-packages/pandas/core/computation/expr.py\", line 697, in visitor\n",
      "    rhs = self._try_visit_binop(y)\n",
      "  File \"/home/mone/.local/lib/python3.6/site-packages/pandas/core/computation/expr.py\", line 692, in _try_visit_binop\n",
      "    return self.visit(bop)\n",
      "  File \"/home/mone/.local/lib/python3.6/site-packages/pandas/core/computation/expr.py\", line 375, in visit\n",
      "    return visitor(node, **kwargs)\n",
      "  File \"/home/mone/.local/lib/python3.6/site-packages/pandas/core/computation/expr.py\", line 676, in visit_Compare\n",
      "    return self.visit(binop)\n",
      "  File \"/home/mone/.local/lib/python3.6/site-packages/pandas/core/computation/expr.py\", line 375, in visit\n",
      "    return visitor(node, **kwargs)\n",
      "  File \"/home/mone/.local/lib/python3.6/site-packages/pandas/core/computation/expr.py\", line 497, in visit_BinOp\n",
      "    op, op_class, left, right = self._maybe_transform_eq_ne(node)\n",
      "  File \"/home/mone/.local/lib/python3.6/site-packages/pandas/core/computation/expr.py\", line 416, in _maybe_transform_eq_ne\n",
      "    left = self.visit(node.left, side=\"left\")\n",
      "  File \"/home/mone/.local/lib/python3.6/site-packages/pandas/core/computation/expr.py\", line 375, in visit\n",
      "    return visitor(node, **kwargs)\n",
      "  File \"/home/mone/.local/lib/python3.6/site-packages/pandas/core/computation/expr.py\", line 510, in visit_Name\n",
      "    return self.term_type(node.id, self.env, **kwargs)\n",
      "  File \"/home/mone/.local/lib/python3.6/site-packages/pandas/core/computation/ops.py\", line 82, in __init__\n",
      "    self._value = self._resolve_name()\n",
      "  File \"/home/mone/.local/lib/python3.6/site-packages/pandas/core/computation/ops.py\", line 99, in _resolve_name\n",
      "    res = self.env.resolve(self.local_name, is_local=self.is_local)\n",
      "  File \"/home/mone/.local/lib/python3.6/site-packages/pandas/core/computation/scope.py\", line 203, in resolve\n",
      "    raise UndefinedVariableError(key, is_local)\n",
      "pandas.core.computation.ops.UndefinedVariableError: name 'color' is not defined\n"
     ]
    },
    {
     "name": "stderr",
     "output_type": "stream",
     "text": [
      "2020-05-25 12:05:36,103 - ERROR    - Exception occurred while processing request: name 'color' is not defined\n",
      "Traceback (most recent call last):\n",
      "  File \"/home/mone/.local/lib/python3.6/site-packages/pandas/core/computation/scope.py\", line 187, in resolve\n",
      "    return self.resolvers[key]\n",
      "  File \"/usr/lib/python3.6/collections/__init__.py\", line 883, in __getitem__\n",
      "    return self.__missing__(key)            # support subclasses that define __missing__\n",
      "  File \"/usr/lib/python3.6/collections/__init__.py\", line 875, in __missing__\n",
      "    raise KeyError(key)\n",
      "KeyError: 'color'\n",
      "\n",
      "During handling of the above exception, another exception occurred:\n",
      "\n",
      "Traceback (most recent call last):\n",
      "  File \"/home/mone/.local/lib/python3.6/site-packages/pandas/core/computation/scope.py\", line 198, in resolve\n",
      "    return self.temps[key]\n",
      "KeyError: 'color'\n",
      "\n",
      "During handling of the above exception, another exception occurred:\n",
      "\n",
      "Traceback (most recent call last):\n",
      "  File \"/home/mone/.local/lib/python3.6/site-packages/dtale/views.py\", line 927, in test_filter\n",
      "    global_state.get_context_variables(data_id)\n",
      "  File \"/home/mone/.local/lib/python3.6/site-packages/dtale/utils.py\", line 696, in run_query\n",
      "    df = df.query(final_query, local_dict=context_vars or {})\n",
      "  File \"/home/mone/.local/lib/python3.6/site-packages/pandas/core/frame.py\", line 3231, in query\n",
      "    res = self.eval(expr, **kwargs)\n",
      "  File \"/home/mone/.local/lib/python3.6/site-packages/pandas/core/frame.py\", line 3346, in eval\n",
      "    return _eval(expr, inplace=inplace, **kwargs)\n",
      "  File \"/home/mone/.local/lib/python3.6/site-packages/pandas/core/computation/eval.py\", line 332, in eval\n",
      "    parsed_expr = Expr(expr, engine=engine, parser=parser, env=env)\n",
      "  File \"/home/mone/.local/lib/python3.6/site-packages/pandas/core/computation/expr.py\", line 764, in __init__\n",
      "    self.terms = self.parse()\n",
      "  File \"/home/mone/.local/lib/python3.6/site-packages/pandas/core/computation/expr.py\", line 781, in parse\n",
      "    return self._visitor.visit(self.expr)\n",
      "  File \"/home/mone/.local/lib/python3.6/site-packages/pandas/core/computation/expr.py\", line 375, in visit\n",
      "    return visitor(node, **kwargs)\n",
      "  File \"/home/mone/.local/lib/python3.6/site-packages/pandas/core/computation/expr.py\", line 381, in visit_Module\n",
      "    return self.visit(expr, **kwargs)\n",
      "  File \"/home/mone/.local/lib/python3.6/site-packages/pandas/core/computation/expr.py\", line 375, in visit\n",
      "    return visitor(node, **kwargs)\n",
      "  File \"/home/mone/.local/lib/python3.6/site-packages/pandas/core/computation/expr.py\", line 384, in visit_Expr\n",
      "    return self.visit(node.value, **kwargs)\n",
      "  File \"/home/mone/.local/lib/python3.6/site-packages/pandas/core/computation/expr.py\", line 375, in visit\n",
      "    return visitor(node, **kwargs)\n",
      "  File \"/home/mone/.local/lib/python3.6/site-packages/pandas/core/computation/expr.py\", line 703, in visit_BoolOp\n",
      "    return reduce(visitor, operands)\n",
      "  File \"/home/mone/.local/lib/python3.6/site-packages/pandas/core/computation/expr.py\", line 697, in visitor\n",
      "    rhs = self._try_visit_binop(y)\n",
      "  File \"/home/mone/.local/lib/python3.6/site-packages/pandas/core/computation/expr.py\", line 692, in _try_visit_binop\n",
      "    return self.visit(bop)\n",
      "  File \"/home/mone/.local/lib/python3.6/site-packages/pandas/core/computation/expr.py\", line 375, in visit\n",
      "    return visitor(node, **kwargs)\n",
      "  File \"/home/mone/.local/lib/python3.6/site-packages/pandas/core/computation/expr.py\", line 676, in visit_Compare\n",
      "    return self.visit(binop)\n",
      "  File \"/home/mone/.local/lib/python3.6/site-packages/pandas/core/computation/expr.py\", line 375, in visit\n",
      "    return visitor(node, **kwargs)\n",
      "  File \"/home/mone/.local/lib/python3.6/site-packages/pandas/core/computation/expr.py\", line 497, in visit_BinOp\n",
      "    op, op_class, left, right = self._maybe_transform_eq_ne(node)\n",
      "  File \"/home/mone/.local/lib/python3.6/site-packages/pandas/core/computation/expr.py\", line 416, in _maybe_transform_eq_ne\n",
      "    left = self.visit(node.left, side=\"left\")\n",
      "  File \"/home/mone/.local/lib/python3.6/site-packages/pandas/core/computation/expr.py\", line 375, in visit\n",
      "    return visitor(node, **kwargs)\n",
      "  File \"/home/mone/.local/lib/python3.6/site-packages/pandas/core/computation/expr.py\", line 510, in visit_Name\n",
      "    return self.term_type(node.id, self.env, **kwargs)\n",
      "  File \"/home/mone/.local/lib/python3.6/site-packages/pandas/core/computation/ops.py\", line 82, in __init__\n",
      "    self._value = self._resolve_name()\n",
      "  File \"/home/mone/.local/lib/python3.6/site-packages/pandas/core/computation/ops.py\", line 99, in _resolve_name\n",
      "    res = self.env.resolve(self.local_name, is_local=self.is_local)\n",
      "  File \"/home/mone/.local/lib/python3.6/site-packages/pandas/core/computation/scope.py\", line 203, in resolve\n",
      "    raise UndefinedVariableError(key, is_local)\n",
      "pandas.core.computation.ops.UndefinedVariableError: name 'color' is not defined\n"
     ]
    },
    {
     "name": "stdout",
     "output_type": "stream",
     "text": [
      "Executing shutdown due to inactivity...\n",
      "Executing shutdown due to inactivity...\n"
     ]
    },
    {
     "name": "stderr",
     "output_type": "stream",
     "text": [
      "2020-05-25 13:06:05,111 - INFO     - Executing shutdown due to inactivity...\n"
     ]
    },
    {
     "name": "stdout",
     "output_type": "stream",
     "text": [
      "Executing shutdown...\n",
      "Executing shutdown...\n"
     ]
    },
    {
     "name": "stderr",
     "output_type": "stream",
     "text": [
      "2020-05-25 13:06:05,126 - INFO     - Executing shutdown...\n"
     ]
    }
   ],
   "source": [
    "#dataset report\n",
    "dtale.show(data)"
   ]
  },
  {
   "cell_type": "code",
   "execution_count": null,
   "metadata": {},
   "outputs": [],
   "source": []
  }
 ],
 "metadata": {
  "colab": {
   "include_colab_link": true,
   "name": "Heart-UCI.ipynb",
   "provenance": [],
   "version": "0.3.2"
  },
  "kernelspec": {
   "display_name": "hyraka_env",
   "language": "python",
   "name": "hyraka_env"
  },
  "language_info": {
   "codemirror_mode": {
    "name": "ipython",
    "version": 3
   },
   "file_extension": ".py",
   "mimetype": "text/x-python",
   "name": "python",
   "nbconvert_exporter": "python",
   "pygments_lexer": "ipython3",
   "version": "3.6.9"
  }
 },
 "nbformat": 4,
 "nbformat_minor": 4
}
